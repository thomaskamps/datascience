{
 "cells": [
  {
   "cell_type": "markdown",
   "metadata": {},
   "source": [
    "#### PRE-RELEASE REVIEW: O'Reilly Intermediate Python Video Series\n",
    "#### Topic: Consuming JSON Data from a Web Service\n",
    "Source located in `nbsource/consuming-json-data-from-a-web-service.ipynb`. Automatically rendered from `UNKNOWN` on 2014-03-21 at 10:21:36.572700.\n",
    "#### AUTOMATICALLY GENERATED TEST NOTEBOOK - CHANGES WILL BE LOST\n",
    "#### To TEST this Notebook<br />1. select Cell | Run All, or step through with Shift/Enter<br />2. Notebook turns pink when testing starts<br />3. It turns white when the it runs to completion.<br />4. Please check the executed notebook for clarity and correctness.<br />Please [raise an issue](https://github.com/holdenweb/intermediate-python/issues) about anything you don't understand - by all means attach a saved copy of the notebook to add explanations or questions. Also please let us know about stuff you want to see covered under any heading in the outline.\n",
    "#### Your comments on the content are also welcome, particularly when [reported as issues](https://github.com/holdenweb/intermediate-python/issues)"
   ]
  },
  {
   "cell_type": "markdown",
   "metadata": {},
   "source": [
    "This document was created on 2014-03-09 at 15:04:58.964462."
   ]
  },
  {
   "cell_type": "markdown",
   "metadata": {},
   "source": [
    "# <img src=\"https://dl.dropboxusercontent.com/u/6117375/intermediate-notebooks/title_graphic.png\" /> ||| WORKING COPY ||| Consuming JSON Data from a Web Service"
   ]
  },
  {
   "cell_type": "markdown",
   "metadata": {},
   "source": [
    "The [JSON data format](http://www.json.org/) has become a popular way to interchange data. It is more concise than XML, easier for humans to read should they have to, and supported by the ECMA-405 standard. Python comes with a `json` module that operates very like the `pickle` module does. You can convert between JSON strings and Python data structures using the `json.dumps()` method that takes a Python structure argument and returns a JSON string. The converse process is performed by the `json.loads()` method,which takes a JSON string as its argument and returns the corresponding Python data structure.\n",
    "\n",
    "JSON is a useful standard for data interchange of the following (Python) types of data:\n",
    "\n",
    "  * Lists (JSON arrays)\n",
    "  * Dicts (JSON objects)\n",
    "  * Strings (JSON strings)\n",
    "  * Integers (JSON numbers)\n",
    "  * Floating-point values (JSON numbers)\n",
    "  * `True` and `False` (JSON `true` and `false`)\n",
    "  * `None` (JSON `null`)\n",
    "\n",
    "Attempts to encode other Python objects will lead to failure unless the programmer extends the JSON encoding.\n",
    "\n",
    "Let's start by writing a function that round-trips Python structures through the JSON notation."
   ]
  },
  {
   "cell_type": "markdown",
   "metadata": {},
   "source": [
    "Looking at the JSON output from `dumps()` shows you that the structure is pretty like a Python data structure made up of lists, dicts and simpler values like lists and strings. Many (but not all!) JSON data structures can be handed to the Python `eval()` function to return the same structure returned by `loads()`. It doesn't do to count on it, though—some values are presented differently, notably `true`, `false` and `null` are the JSON equivalents of `True`, `False` and `None` respectively."
   ]
  },
  {
   "cell_type": "markdown",
   "metadata": {},
   "source": [
    "### Downloading a json file from the web and parsing it."
   ]
  },
  {
   "cell_type": "markdown",
   "metadata": {},
   "source": [
    "!!\n",
    "When you pass a type that can't be encoded an exception is raised. You can see JSON does not handle complex numbers, which would therefore have to be stored as two separate numbers, or as objects with a real and a complex field. \n",
    "\n",
    "    json.dumps(3+4j)\n",
    "    ---------------------------------------------------------------------------\n",
    "    TypeError                                 Traceback (most recent call last)\n",
    "    <ipython-input-6-a02050009b26> in <module>()\n",
    "        ...\n",
    "        ... (lots of traceback)\n",
    "        ...\n",
    "    TypeError: (3+4j) is not JSON serializable\n",
    "\n",
    "There are ways of extending the range of data types that can be handled in JSON, which we will discuss later in this lesson."
   ]
  },
  {
   "cell_type": "markdown",
   "metadata": {},
   "source": [
    "The `json.load()` and `json.dump()` functions operate similarly, but instead of producing a string output they take an open file as an argument and pass the data from and to the file, respectively. These functions have complex signatures and share many arguments with each other and the encoders and decoders discussed below. Consult the documentation for full details. Here is the full signature of the `dumps()` function.\n",
    "\n",
    "    json.dump(obj, fp, skipkeys=False, ensure_ascii=True,\n",
    "              check_circular=True, allow_nan=True, cls=None,\n",
    "              indent=None, separators=None, default=None,\n",
    "              sort_keys=False, **kw)"
   ]
  },
  {
   "cell_type": "markdown",
   "metadata": {},
   "source": [
    "Most of these keyword arguments can safely be omitted most of the time, and are common to other JSON calls. The exception to this is the `allow_nan` argument (True by default) that permits certain non-standard values to be encoded. You can think of it as an extension of the standard's floating-point range. I can do no better than quote the documentation:\n",
    "\n",
    "    If `allow_nan` is false, then it will be a `ValueError` to\n",
    "    serialize out of range `float` values (`nan`, `inf`, `-inf`) in\n",
    "    strict compliance of the JSON specification, instead of using the\n",
    "    JavaScript equivalents (`NaN`, `Infinity`, `-Infinity`).\n",
    "\n",
    "Once created, encoders are used to turn non-JSON objects into representable (JSON) data strings. Correspondingly, a decoder will take a JSON string and turn it into an object. \n",
    "\n",
    "you can call an encoder's `decode` method to turn data structure into a JSON string. "
   ]
  },
  {
   "cell_type": "markdown",
   "metadata": {},
   "source": [
    "For more complex encoding and decoding you can use the [encoders and decoders](http://docs.python.org/3.3/library/json.html#encoders-and-decoders) (`json.JSONEncoder` and `json.JSONDecoder`)classes. These allow you to establish encodings that can be used to handle non-JSON types, for example. The Encoder's full signature is complex just as the module's conversion functions are."
   ]
  },
  {
   "cell_type": "code",
   "execution_count": 1,
   "metadata": {
    "collapsed": false
   },
   "outputs": [
    {
     "ename": "NameError",
     "evalue": "name 'json' is not defined",
     "output_type": "error",
     "traceback": [
      "\u001b[1;31m---------------------------------------------------------------------------\u001b[0m",
      "\u001b[1;31mNameError\u001b[0m                                 Traceback (most recent call last)",
      "\u001b[1;32m<ipython-input-1-c490357cf271>\u001b[0m in \u001b[0;36m<module>\u001b[1;34m()\u001b[0m\n\u001b[1;32m----> 1\u001b[1;33m \u001b[0mstrict_encoder\u001b[0m \u001b[1;33m=\u001b[0m \u001b[0mjson\u001b[0m\u001b[1;33m.\u001b[0m\u001b[0mJSONEncoder\u001b[0m\u001b[1;33m(\u001b[0m\u001b[0mallow_nan\u001b[0m\u001b[1;33m=\u001b[0m\u001b[0mFalse\u001b[0m\u001b[1;33m)\u001b[0m\u001b[1;33m\u001b[0m\u001b[0m\n\u001b[0m\u001b[0;32m      2\u001b[0m \u001b[0mstrict_encoder\u001b[0m\u001b[1;33m.\u001b[0m\u001b[0mencode\u001b[0m\u001b[1;33m(\u001b[0m\u001b[0mstruc2\u001b[0m\u001b[1;33m)\u001b[0m\u001b[1;33m\u001b[0m\u001b[0m\n",
      "\u001b[1;31mNameError\u001b[0m: name 'json' is not defined"
     ]
    }
   ],
   "source": [
    "strict_encoder = json.JSONEncoder(allow_nan=False)\n",
    "strict_encoder.encode(struc2)"
   ]
  },
  {
   "cell_type": "markdown",
   "metadata": {},
   "source": [
    "The `JSONDecoder` and `JSONencoder` classes can be extended by subclassing."
   ]
  },
  {
   "cell_type": "code",
   "execution_count": null,
   "metadata": {
    "collapsed": true
   },
   "outputs": [],
   "source": []
  }
 ],
 "metadata": {
  "kernelspec": {
   "display_name": "Python 2",
   "language": "python",
   "name": "python2"
  },
  "language_info": {
   "codemirror_mode": {
    "name": "ipython",
    "version": 2
   },
   "file_extension": ".py",
   "mimetype": "text/x-python",
   "name": "python",
   "nbconvert_exporter": "python",
   "pygments_lexer": "ipython2",
   "version": "2.7.9"
  }
 },
 "nbformat": 4,
 "nbformat_minor": 0
}
